{
 "cells": [
  {
   "cell_type": "code",
   "execution_count": 1,
   "id": "c19631da",
   "metadata": {},
   "outputs": [],
   "source": [
    "import json\n",
    "import pandas as pd\n",
    "import numpy as np\n",
    "import math"
   ]
  },
  {
   "cell_type": "code",
   "execution_count": 3,
   "id": "cfa50316",
   "metadata": {},
   "outputs": [],
   "source": [
    "with open(\"../events/events_England.json\", \"r\") as file:\n",
    "    event_data_2 = json.load(file)\n",
    "\n",
    "df2 = pd.DataFrame(event_data_2)\n",
    "\n",
    "with open(\"../events/events_France.json\", \"r\") as file:\n",
    "    event_data_3 = json.load(file)\n",
    "\n",
    "df3 = pd.DataFrame(event_data_3)\n",
    "\n",
    "with open(\"../events/events_Germany.json\", \"r\") as file:\n",
    "    event_data_4 = json.load(file)\n",
    "\n",
    "df4 = pd.DataFrame(event_data_4)\n",
    "\n",
    "with open(\"../events/events_Italy.json\", \"r\") as file:\n",
    "    event_data_5 = json.load(file)\n",
    "\n",
    "df5 = pd.DataFrame(event_data_5)\n",
    "\n",
    "with open(\"../events/events_Spain.json\", \"r\") as file:\n",
    "    event_data_6 = json.load(file)\n",
    "\n",
    "df6 = pd.DataFrame(event_data_6)\n",
    "\n",
    "with open(\"../events/teams.json\", \"r\") as file:\n",
    "    teams_data = json.load(file)\n",
    "\n",
    "teams_df = pd.DataFrame(teams_data)"
   ]
  },
  {
   "cell_type": "code",
   "execution_count": 4,
   "id": "f7c4c838",
   "metadata": {},
   "outputs": [],
   "source": [
    "all_events_df = pd.concat([df2, df3, df4, df5, df6], ignore_index=True)"
   ]
  },
  {
   "cell_type": "code",
   "execution_count": 5,
   "id": "a567a28a",
   "metadata": {},
   "outputs": [
    {
     "name": "stderr",
     "output_type": "stream",
     "text": [
      "<ipython-input-5-2dc90856b6ae>:2: SettingWithCopyWarning: \n",
      "A value is trying to be set on a copy of a slice from a DataFrame.\n",
      "Try using .loc[row_indexer,col_indexer] = value instead\n",
      "\n",
      "See the caveats in the documentation: https://pandas.pydata.org/pandas-docs/stable/user_guide/indexing.html#returning-a-view-versus-a-copy\n",
      "  out_of_possession_df['uniqueTeamId'] = out_of_possession_df['teamId'].astype(str) + \"---\" + out_of_possession_df['matchId'].astype(str)\n"
     ]
    }
   ],
   "source": [
    "out_of_possession_df = all_events_df[all_events_df['eventName'].isin([\"Duel\", \"Foul\", \"Goalkeeper leaving line\", \"Others on the ball\"])]\n",
    "out_of_possession_df['uniqueTeamId'] = out_of_possession_df['teamId'].astype(str) + \"---\" + out_of_possession_df['matchId'].astype(str)"
   ]
  },
  {
   "cell_type": "code",
   "execution_count": 6,
   "id": "271073f3",
   "metadata": {},
   "outputs": [
    {
     "name": "stderr",
     "output_type": "stream",
     "text": [
      "<ipython-input-6-8f6f779b0294>:12: SettingWithCopyWarning: \n",
      "A value is trying to be set on a copy of a slice from a DataFrame.\n",
      "Try using .loc[row_indexer,col_indexer] = value instead\n",
      "\n",
      "See the caveats in the documentation: https://pandas.pydata.org/pandas-docs/stable/user_guide/indexing.html#returning-a-view-versus-a-copy\n",
      "  out_of_possession_df['Zone'] = out_of_possession_df['positions'].apply(lambda pos: determine_zone(pos[0]) if len(pos) > 0 else None)\n"
     ]
    }
   ],
   "source": [
    "def determine_zone(position):\n",
    "    if 'x' in position and 'y' in position:\n",
    "        x, y = position['x'], position['y']\n",
    "        zone = int(x / 33.333) + 1\n",
    "        if zone == 4:\n",
    "            zone = 3\n",
    "        return zone\n",
    "    else:\n",
    "        return None\n",
    "    \n",
    "# Apply the function to determine zones for each event\n",
    "out_of_possession_df['Zone'] = out_of_possession_df['positions'].apply(lambda pos: determine_zone(pos[0]) if len(pos) > 0 else None)"
   ]
  },
  {
   "cell_type": "code",
   "execution_count": 7,
   "id": "47615c4e",
   "metadata": {},
   "outputs": [],
   "source": [
    "acc_df = out_of_possession_df[out_of_possession_df.subEventName == \"Acceleration\"]"
   ]
  },
  {
   "cell_type": "code",
   "execution_count": 8,
   "id": "16288f4f",
   "metadata": {},
   "outputs": [
    {
     "name": "stderr",
     "output_type": "stream",
     "text": [
      "<ipython-input-8-880fc9c4250c>:22: SettingWithCopyWarning: \n",
      "A value is trying to be set on a copy of a slice from a DataFrame.\n",
      "Try using .loc[row_indexer,col_indexer] = value instead\n",
      "\n",
      "See the caveats in the documentation: https://pandas.pydata.org/pandas-docs/stable/user_guide/indexing.html#returning-a-view-versus-a-copy\n",
      "  acc_df[['calculated_acceleration_length', 'calculated_acceleration_angle']] = acc_df.apply(calculate_pass_details_from_single_column, axis=1)\n",
      "<ipython-input-8-880fc9c4250c>:22: SettingWithCopyWarning: \n",
      "A value is trying to be set on a copy of a slice from a DataFrame.\n",
      "Try using .loc[row_indexer,col_indexer] = value instead\n",
      "\n",
      "See the caveats in the documentation: https://pandas.pydata.org/pandas-docs/stable/user_guide/indexing.html#returning-a-view-versus-a-copy\n",
      "  acc_df[['calculated_acceleration_length', 'calculated_acceleration_angle']] = acc_df.apply(calculate_pass_details_from_single_column, axis=1)\n"
     ]
    }
   ],
   "source": [
    "def calculate_pass_details_from_single_column(row):\n",
    "    if row['positions'] is not None and len(row['positions']) == 2:\n",
    "        # Extract and normalize start and end locations\n",
    "        start_loc = row['positions'][0]\n",
    "        end_loc = row['positions'][1]\n",
    "        \n",
    "        start_x = start_loc['x'] * (120 / 100.0)\n",
    "        start_y = start_loc['y'] * (80 / 100.0)\n",
    "        end_x = end_loc['x'] * (120 / 100.0)\n",
    "        end_y = end_loc['y'] * (80 / 100.0)\n",
    "        \n",
    "        # Calculate pass length and angle\n",
    "        delta_x = end_x - start_x\n",
    "        delta_y = end_y - start_y\n",
    "        pass_length = math.sqrt(delta_x**2 + delta_y**2)\n",
    "        pass_angle = math.atan2(delta_y, delta_x)\n",
    "        \n",
    "        return pd.Series([pass_length, pass_angle])\n",
    "    else:\n",
    "        return pd.Series([None, None])\n",
    "    \n",
    "acc_df[['calculated_acceleration_length', 'calculated_acceleration_angle']] = acc_df.apply(calculate_pass_details_from_single_column, axis=1)"
   ]
  },
  {
   "cell_type": "code",
   "execution_count": 9,
   "id": "5f767859",
   "metadata": {},
   "outputs": [
    {
     "name": "stderr",
     "output_type": "stream",
     "text": [
      "<ipython-input-9-6bec0738f8c8>:12: SettingWithCopyWarning: \n",
      "A value is trying to be set on a copy of a slice from a DataFrame.\n",
      "Try using .loc[row_indexer,col_indexer] = value instead\n",
      "\n",
      "See the caveats in the documentation: https://pandas.pydata.org/pandas-docs/stable/user_guide/indexing.html#returning-a-view-versus-a-copy\n",
      "  acc_df['acceleration_direction'] = acc_df['calculated_acceleration_angle'].apply(determine_pass_direction)\n"
     ]
    }
   ],
   "source": [
    "def determine_pass_direction(angle):\n",
    "    # Forward Pass: -π/4 < angle < π/4\n",
    "    if -np.pi/4 < angle < np.pi/4:\n",
    "        return \"Forward Run\"\n",
    "    # Backward Pass: 3π/4 < angle <= π or -π <= angle < -3π/4\n",
    "    elif 3*np.pi/4 < angle <= np.pi or -np.pi <= angle < -3*np.pi/4:\n",
    "        return \"Backward Run\"\n",
    "    # Side Pass: Otherwise\n",
    "    else:\n",
    "        return \"Side Run\"\n",
    "\n",
    "acc_df['acceleration_direction'] = acc_df['calculated_acceleration_angle'].apply(determine_pass_direction)"
   ]
  },
  {
   "cell_type": "code",
   "execution_count": 10,
   "id": "91093250",
   "metadata": {},
   "outputs": [
    {
     "name": "stderr",
     "output_type": "stream",
     "text": [
      "<ipython-input-10-32ca132416b8>:1: SettingWithCopyWarning: \n",
      "A value is trying to be set on a copy of a slice from a DataFrame.\n",
      "Try using .loc[row_indexer,col_indexer] = value instead\n",
      "\n",
      "See the caveats in the documentation: https://pandas.pydata.org/pandas-docs/stable/user_guide/indexing.html#returning-a-view-versus-a-copy\n",
      "  acc_df['zone'] = 'Zone_' + acc_df['Zone'].astype(str) + \"_Run\"\n",
      "<ipython-input-10-32ca132416b8>:7: SettingWithCopyWarning: \n",
      "A value is trying to be set on a copy of a slice from a DataFrame.\n",
      "Try using .loc[row_indexer,col_indexer] = value instead\n",
      "\n",
      "See the caveats in the documentation: https://pandas.pydata.org/pandas-docs/stable/user_guide/indexing.html#returning-a-view-versus-a-copy\n",
      "  acc_df['acceleration_length_type'] = pd.cut(acc_df['calculated_acceleration_length'], bins=[0, q1, q2, q3], labels=['Short Run', 'Middle Run', 'Long Run'], include_lowest=True)\n",
      "<ipython-input-10-32ca132416b8>:18: SettingWithCopyWarning: \n",
      "A value is trying to be set on a copy of a slice from a DataFrame.\n",
      "Try using .loc[row_indexer,col_indexer] = value instead\n",
      "\n",
      "See the caveats in the documentation: https://pandas.pydata.org/pandas-docs/stable/user_guide/indexing.html#returning-a-view-versus-a-copy\n",
      "  acc_df['is_forward_run_zone_3'] = ((acc_df['acceleration_direction'] == 'Forward Run') & (acc_df['Zone'] == 3))\n"
     ]
    }
   ],
   "source": [
    "acc_df['zone'] = 'Zone_' + acc_df['Zone'].astype(str) + \"_Run\"\n",
    "\n",
    "# Step 2: Group by 'uniqueTeamId' and the new 'dir_zone' column, then count\n",
    "zone_count = acc_df.groupby(['uniqueTeamId', 'zone']).size()\n",
    "\n",
    "q1, q2, q3 = acc_df['calculated_acceleration_length'].quantile([0.33, 0.66, 1.0])\n",
    "acc_df['acceleration_length_type'] = pd.cut(acc_df['calculated_acceleration_length'], bins=[0, q1, q2, q3], labels=['Short Run', 'Middle Run', 'Long Run'], include_lowest=True)\n",
    "acceleration_length_stats = acc_df.groupby(['uniqueTeamId', 'acceleration_length_type']).size().unstack(fill_value=0)\n",
    "average_acceleration_length = acc_df.groupby('uniqueTeamId')['calculated_acceleration_length'].mean()\n",
    "\n",
    "\n",
    "# Step 3: Pivot the results to have 'uniqueTeamId' as rows and each unique 'dir_zone' combination as columns\n",
    "zone_count_pivot = zone_count.unstack(fill_value=0)\n",
    "\n",
    "direction_count = acc_df.groupby('uniqueTeamId')['acceleration_direction'].value_counts().unstack(fill_value=0)\n",
    "\n",
    "# Add the number of forward runs in Zone 3\n",
    "acc_df['is_forward_run_zone_3'] = ((acc_df['acceleration_direction'] == 'Forward Run') & (acc_df['Zone'] == 3))\n",
    "forward_runs_zone_3 = acc_df.groupby('uniqueTeamId')['is_forward_run_zone_3'].sum()\n",
    "\n",
    "# Concatenate DataFrames\n",
    "acceleration_direction_df = pd.concat([zone_count_pivot, direction_count, acceleration_length_stats, average_acceleration_length.rename('average_acceleration_length'), forward_runs_zone_3.rename('Forward_Runs_Zone_3')], axis=1)"
   ]
  },
  {
   "cell_type": "code",
   "execution_count": 11,
   "id": "9dccbdee",
   "metadata": {},
   "outputs": [
    {
     "name": "stderr",
     "output_type": "stream",
     "text": [
      "<ipython-input-11-25869d8d3c46>:7: SettingWithCopyWarning: \n",
      "A value is trying to be set on a copy of a slice from a DataFrame.\n",
      "Try using .loc[row_indexer,col_indexer] = value instead\n",
      "\n",
      "See the caveats in the documentation: https://pandas.pydata.org/pandas-docs/stable/user_guide/indexing.html#returning-a-view-versus-a-copy\n",
      "  filtered_df['duel_zone'] = filtered_df['subEventName'].astype(str) + '_Zone_' + filtered_df['Zone'].astype(str)\n"
     ]
    }
   ],
   "source": [
    "filtered_df = out_of_possession_df[\n",
    "    (out_of_possession_df['subEventName'] == 'Foul') |\n",
    "    (out_of_possession_df['subEventName'] == 'Touch') |\n",
    "    (out_of_possession_df['subEventName'].str.contains('duel', case=False, na=False))\n",
    "]\n",
    "\n",
    "filtered_df['duel_zone'] = filtered_df['subEventName'].astype(str) + '_Zone_' + filtered_df['Zone'].astype(str)\n",
    "\n",
    "# Step 2: Group by 'uniqueTeamId' and the new 'dir_zone' column, then count\n",
    "duel_zone_count = filtered_df.groupby(['uniqueTeamId', 'duel_zone']).size().unstack(fill_value=0)\n",
    "\n",
    "all_count = out_of_possession_df.groupby(['uniqueTeamId', 'subEventName']).size().unstack(fill_value=0)\n",
    "\n",
    "grouped_out_of_poss_df = pd.concat([duel_zone_count, all_count], axis=1)"
   ]
  },
  {
   "cell_type": "code",
   "execution_count": 12,
   "id": "52919e25",
   "metadata": {},
   "outputs": [
    {
     "data": {
      "text/plain": [
       "Air duel_Zone_1                   0\n",
       "Air duel_Zone_2                   0\n",
       "Air duel_Zone_3                   0\n",
       "Foul_Zone_1                       0\n",
       "Foul_Zone_2                       0\n",
       "Foul_Zone_3                       0\n",
       "Ground attacking duel_Zone_1      0\n",
       "Ground attacking duel_Zone_2      0\n",
       "Ground attacking duel_Zone_3      0\n",
       "Ground defending duel_Zone_1      0\n",
       "Ground defending duel_Zone_2      0\n",
       "Ground defending duel_Zone_3      0\n",
       "Ground loose ball duel_Zone_1     0\n",
       "Ground loose ball duel_Zone_2     0\n",
       "Ground loose ball duel_Zone_3     0\n",
       "Touch_Zone_1                      0\n",
       "Touch_Zone_2                      0\n",
       "Touch_Zone_3                      0\n",
       "Acceleration                      0\n",
       "Air duel                          0\n",
       "Clearance                         0\n",
       "Foul                              0\n",
       "Goalkeeper leaving line           0\n",
       "Ground attacking duel             0\n",
       "Ground defending duel             0\n",
       "Ground loose ball duel            0\n",
       "Hand foul                         0\n",
       "Late card foul                    0\n",
       "Out of game foul                  0\n",
       "Protest                           0\n",
       "Simulation                        0\n",
       "Time lost foul                    0\n",
       "Touch                             0\n",
       "Violent Foul                      0\n",
       "Zone_1_Run                       71\n",
       "Zone_2_Run                       71\n",
       "Zone_3_Run                       71\n",
       "Backward Run                     71\n",
       "Forward Run                      71\n",
       "Side Run                         71\n",
       "Short Run                        71\n",
       "Middle Run                       71\n",
       "Long Run                         71\n",
       "average_acceleration_length      71\n",
       "Forward_Runs_Zone_3              71\n",
       "dtype: int64"
      ]
     },
     "execution_count": 12,
     "metadata": {},
     "output_type": "execute_result"
    }
   ],
   "source": [
    "out_of_final_df = pd.concat([grouped_out_of_poss_df, acceleration_direction_df], axis=1)\n",
    "out_of_final_df.isna().sum()"
   ]
  },
  {
   "cell_type": "code",
   "execution_count": 13,
   "id": "2455dc58",
   "metadata": {},
   "outputs": [],
   "source": [
    "# if acceleration is 0, all acceleration related cols are nan. let's make them 0\n",
    "out_of_final_df.fillna(0, inplace = True)\n",
    "\n",
    "out_of_final_df.to_csv('final_out_of_possesion_df.csv', index=True)"
   ]
  },
  {
   "cell_type": "markdown",
   "id": "69633089",
   "metadata": {},
   "source": [
    "# END OF FILE"
   ]
  }
 ],
 "metadata": {
  "kernelspec": {
   "display_name": "Python 3",
   "language": "python",
   "name": "python3"
  },
  "language_info": {
   "codemirror_mode": {
    "name": "ipython",
    "version": 3
   },
   "file_extension": ".py",
   "mimetype": "text/x-python",
   "name": "python",
   "nbconvert_exporter": "python",
   "pygments_lexer": "ipython3",
   "version": "3.8.6"
  }
 },
 "nbformat": 4,
 "nbformat_minor": 5
}
